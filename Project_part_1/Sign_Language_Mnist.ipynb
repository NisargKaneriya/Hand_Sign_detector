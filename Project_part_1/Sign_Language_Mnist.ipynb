{
  "nbformat": 4,
  "nbformat_minor": 0,
  "metadata": {
    "colab": {
      "provenance": []
    },
    "kernelspec": {
      "name": "python3",
      "display_name": "Python 3"
    },
    "language_info": {
      "name": "python"
    }
  },
  "cells": [
    {
      "cell_type": "markdown",
      "source": [
        "Importing Libraries"
      ],
      "metadata": {
        "id": "TmC9H-jYVUxx"
      }
    },
    {
      "cell_type": "code",
      "execution_count": 1,
      "metadata": {
        "id": "yx3qbInpU13u"
      },
      "outputs": [],
      "source": [
        "import pandas as pd\n",
        "import numpy as np\n",
        "import tensorflow as tf\n",
        "import matplotlib.pyplot as plt"
      ]
    },
    {
      "cell_type": "markdown",
      "source": [
        "Specifying training and testing dataset"
      ],
      "metadata": {
        "id": "rlP52Nq3VTSJ"
      }
    },
    {
      "cell_type": "code",
      "source": [
        "TRAIN_PATH = 'sign_mnist_train.csv'\n",
        "VALID_PATH = 'sign_mnist_test.csv'\n",
        "NO_CLASSES = 26"
      ],
      "metadata": {
        "id": "T2p7tslmVoD7"
      },
      "execution_count": 2,
      "outputs": []
    },
    {
      "cell_type": "markdown",
      "source": [
        "Reading and printing the training and testing Dataset"
      ],
      "metadata": {
        "id": "NAK2d6hvV1mP"
      }
    },
    {
      "cell_type": "code",
      "source": [
        "trainData = pd.read_csv(TRAIN_PATH)\n",
        "print(trainData.head(6))"
      ],
      "metadata": {
        "colab": {
          "base_uri": "https://localhost:8080/"
        },
        "id": "COZTfDflV0lh",
        "outputId": "0071c506-d704-418b-ff3c-3d056939f5d4"
      },
      "execution_count": 17,
      "outputs": [
        {
          "output_type": "stream",
          "name": "stdout",
          "text": [
            "   label  pixel1  pixel2  pixel3  pixel4  pixel5  pixel6  pixel7  pixel8  \\\n",
            "0      3     107     118     127     134     139     143     146     150   \n",
            "1      6     155     157     156     156     156     157     156     158   \n",
            "2      2     187     188     188     187     187     186     187     188   \n",
            "3      2     211     211     212     212     211     210     211     210   \n",
            "4     13     164     167     170     172     176     179     180     184   \n",
            "5     16     161     168     172     173     178     184     189     193   \n",
            "\n",
            "   pixel9  ...  pixel775  pixel776  pixel777  pixel778  pixel779  pixel780  \\\n",
            "0     153  ...       207       207       207       207       206       206   \n",
            "1     158  ...        69       149       128        87        94       163   \n",
            "2     187  ...       202       201       200       199       198       199   \n",
            "3     210  ...       235       234       233       231       230       226   \n",
            "4     185  ...        92       105       105       108       133       163   \n",
            "5     196  ...        76        74        68        62        53        55   \n",
            "\n",
            "   pixel781  pixel782  pixel783  pixel784  \n",
            "0       206       204       203       202  \n",
            "1       175       103       135       149  \n",
            "2       198       195       194       195  \n",
            "3       225       222       229       163  \n",
            "4       157       163       164       179  \n",
            "5        48       238       255       255  \n",
            "\n",
            "[6 rows x 785 columns]\n"
          ]
        }
      ]
    },
    {
      "cell_type": "code",
      "source": [
        "print(trainData)"
      ],
      "metadata": {
        "colab": {
          "base_uri": "https://localhost:8080/"
        },
        "id": "bRoWneovxnID",
        "outputId": "e7acec20-d5b8-482c-e1f9-0de89d1bf8e4"
      },
      "execution_count": 16,
      "outputs": [
        {
          "output_type": "stream",
          "name": "stdout",
          "text": [
            "       label  pixel1  pixel2  pixel3  pixel4  pixel5  pixel6  pixel7  pixel8  \\\n",
            "0          3     107     118     127     134     139     143     146     150   \n",
            "1          6     155     157     156     156     156     157     156     158   \n",
            "2          2     187     188     188     187     187     186     187     188   \n",
            "3          2     211     211     212     212     211     210     211     210   \n",
            "4         13     164     167     170     172     176     179     180     184   \n",
            "...      ...     ...     ...     ...     ...     ...     ...     ...     ...   \n",
            "27450     13     189     189     190     190     192     193     193     193   \n",
            "27451     23     151     154     157     158     160     161     163     164   \n",
            "27452     18     174     174     174     174     174     175     175     174   \n",
            "27453     17     177     181     184     185     187     189     190     191   \n",
            "27454     23     179     180     180     180     182     181     182     183   \n",
            "\n",
            "       pixel9  ...  pixel775  pixel776  pixel777  pixel778  pixel779  \\\n",
            "0         153  ...       207       207       207       207       206   \n",
            "1         158  ...        69       149       128        87        94   \n",
            "2         187  ...       202       201       200       199       198   \n",
            "3         210  ...       235       234       233       231       230   \n",
            "4         185  ...        92       105       105       108       133   \n",
            "...       ...  ...       ...       ...       ...       ...       ...   \n",
            "27450     193  ...       132       165        99        77        52   \n",
            "27451     166  ...       198       198       198       198       198   \n",
            "27452     173  ...       121       196       209       208       206   \n",
            "27453     191  ...       119        56        27        58       102   \n",
            "27454     182  ...       108       132       170       194       214   \n",
            "\n",
            "       pixel780  pixel781  pixel782  pixel783  pixel784  \n",
            "0           206       206       204       203       202  \n",
            "1           163       175       103       135       149  \n",
            "2           199       198       195       194       195  \n",
            "3           226       225       222       229       163  \n",
            "4           163       157       163       164       179  \n",
            "...         ...       ...       ...       ...       ...  \n",
            "27450       200       234       200       222       225  \n",
            "27451       196       195       195       195       194  \n",
            "27452       204       203       202       200       200  \n",
            "27453        79        47        64        87        93  \n",
            "27454       203       197       205       209       215  \n",
            "\n",
            "[27455 rows x 785 columns]\n"
          ]
        }
      ]
    },
    {
      "cell_type": "code",
      "source": [
        "validData = pd.read_csv(VALID_PATH)\n",
        "print(validData.head(5))"
      ],
      "metadata": {
        "colab": {
          "base_uri": "https://localhost:8080/"
        },
        "id": "cunK6BRiV_B1",
        "outputId": "d06dfb04-6c7c-4a3e-a6c7-c38fe69a4648"
      },
      "execution_count": 4,
      "outputs": [
        {
          "output_type": "stream",
          "name": "stdout",
          "text": [
            "   label  pixel1  pixel2  pixel3  pixel4  pixel5  pixel6  pixel7  pixel8  \\\n",
            "0      6     149     149     150     150     150     151     151     150   \n",
            "1      5     126     128     131     132     133     134     135     135   \n",
            "2     10      85      88      92      96     105     123     135     143   \n",
            "3      0     203     205     207     206     207     209     210     209   \n",
            "4      3     188     191     193     195     199     201     202     203   \n",
            "\n",
            "   pixel9  ...  pixel775  pixel776  pixel777  pixel778  pixel779  pixel780  \\\n",
            "0     151  ...       138       148       127        89        82        96   \n",
            "1     136  ...        47       104       194       183       186       184   \n",
            "2     147  ...        68       166       242       227       230       227   \n",
            "3     210  ...       154       248       247       248       253       236   \n",
            "4     203  ...        26        40        64        48        29        46   \n",
            "\n",
            "   pixel781  pixel782  pixel783  pixel784  \n",
            "0       106       112       120       107  \n",
            "1       184       184       182       180  \n",
            "2       226       225       224       222  \n",
            "3       230       240       253       255  \n",
            "4        49        46        46        53  \n",
            "\n",
            "[5 rows x 785 columns]\n"
          ]
        }
      ]
    },
    {
      "cell_type": "markdown",
      "source": [
        "Transforming the data so that it can be fed into the CNN"
      ],
      "metadata": {
        "id": "LUt981-xWadc"
      }
    },
    {
      "cell_type": "code",
      "source": [
        "x_train = np.array(trainData.drop(columns=['label']))\n",
        "y_train = np.array(trainData['label'])\n",
        "x_valid = np.array(validData.drop(columns=['label']))\n",
        "y_valid = np.array(validData['label'])"
      ],
      "metadata": {
        "id": "jOBnKyRkWf-6"
      },
      "execution_count": 5,
      "outputs": []
    },
    {
      "cell_type": "markdown",
      "source": [
        "Scaling the data"
      ],
      "metadata": {
        "id": "EFOu5iNxWm3y"
      }
    },
    {
      "cell_type": "code",
      "source": [
        "x_train = x_train.reshape(len(x_train),28,28,1)\n",
        "x_train = x_train/255.0\n",
        "x_valid = x_valid.reshape(len(x_valid),28,28,1)\n",
        "x_valid = x_valid/255.0\n",
        "\n",
        "x_train.shape, y_train.shape, x_valid.shape, y_valid.shape"
      ],
      "metadata": {
        "colab": {
          "base_uri": "https://localhost:8080/"
        },
        "id": "dzySJa17WqDk",
        "outputId": "56d6045e-2872-401d-b12e-4cae8813727a"
      },
      "execution_count": 6,
      "outputs": [
        {
          "output_type": "execute_result",
          "data": {
            "text/plain": [
              "((27455, 28, 28, 1), (27455,), (7172, 28, 28, 1), (7172,))"
            ]
          },
          "metadata": {},
          "execution_count": 6
        }
      ]
    },
    {
      "cell_type": "markdown",
      "source": [
        "Defining Model"
      ],
      "metadata": {
        "id": "_jNDLV_YWuQn"
      }
    },
    {
      "cell_type": "code",
      "source": [
        "model = tf.keras.models.Sequential()\n",
        "model.add(tf.keras.layers.Conv2D(30, (5, 5), input_shape=(28, 28, 1), activation='relu'))\n",
        "model.add(tf.keras.layers.MaxPooling2D(pool_size=(2, 2)))\n",
        "\n",
        "model.add(tf.keras.layers.Conv2D(15, (3, 3), activation='relu'))\n",
        "model.add(tf.keras.layers.MaxPooling2D(pool_size=(2, 2)))\n",
        "\n",
        "model.add(tf.keras.layers.Dropout(0.2))\n",
        "\n",
        "model.add(tf.keras.layers.Flatten())\n",
        "\n",
        "model.add(tf.keras.layers.Dense(128, activation='relu'))\n",
        "model.add(tf.keras.layers.Dense(50, activation='relu'))\n",
        "model.add(tf.keras.layers.Dense(26, activation='softmax'))"
      ],
      "metadata": {
        "id": "UzotJPefW3OI",
        "colab": {
          "base_uri": "https://localhost:8080/"
        },
        "outputId": "a0ab4d28-c518-4691-eba3-73982c686dcd"
      },
      "execution_count": 7,
      "outputs": [
        {
          "output_type": "stream",
          "name": "stderr",
          "text": [
            "/usr/local/lib/python3.11/dist-packages/keras/src/layers/convolutional/base_conv.py:107: UserWarning: Do not pass an `input_shape`/`input_dim` argument to a layer. When using Sequential models, prefer using an `Input(shape)` object as the first layer in the model instead.\n",
            "  super().__init__(activity_regularizer=activity_regularizer, **kwargs)\n"
          ]
        }
      ]
    },
    {
      "cell_type": "markdown",
      "source": [
        "Compiling Model"
      ],
      "metadata": {
        "id": "UXC9G8G3WzWf"
      }
    },
    {
      "cell_type": "code",
      "source": [
        "model.compile(loss='sparse_categorical_crossentropy', optimizer='adam', metrics=['accuracy'])\n",
        "model.fit(x_train,y_train, epochs=7, validation_data=(x_valid,y_valid))\n",
        "model.save('sign_language_mnist_cnn.h5')"
      ],
      "metadata": {
        "id": "TYxsE6VeW37H",
        "colab": {
          "base_uri": "https://localhost:8080/"
        },
        "outputId": "c680054b-7e1e-4174-9da0-13b5e66b3e61"
      },
      "execution_count": null,
      "outputs": [
        {
          "output_type": "stream",
          "name": "stdout",
          "text": [
            "Epoch 1/7\n",
            "\u001b[1m858/858\u001b[0m \u001b[32m━━━━━━━━━━━━━━━━━━━━\u001b[0m\u001b[37m\u001b[0m \u001b[1m26s\u001b[0m 27ms/step - accuracy: 0.3871 - loss: 2.0507 - val_accuracy: 0.8540 - val_loss: 0.4617\n",
            "Epoch 2/7\n",
            "\u001b[1m858/858\u001b[0m \u001b[32m━━━━━━━━━━━━━━━━━━━━\u001b[0m\u001b[37m\u001b[0m \u001b[1m24s\u001b[0m 28ms/step - accuracy: 0.9297 - loss: 0.2218 - val_accuracy: 0.9078 - val_loss: 0.3356\n",
            "Epoch 3/7\n",
            "\u001b[1m858/858\u001b[0m \u001b[32m━━━━━━━━━━━━━━━━━━━━\u001b[0m\u001b[37m\u001b[0m \u001b[1m22s\u001b[0m 26ms/step - accuracy: 0.9732 - loss: 0.0857 - val_accuracy: 0.9096 - val_loss: 0.3600\n",
            "Epoch 4/7\n",
            "\u001b[1m858/858\u001b[0m \u001b[32m━━━━━━━━━━━━━━━━━━━━\u001b[0m\u001b[37m\u001b[0m \u001b[1m24s\u001b[0m 28ms/step - accuracy: 0.9821 - loss: 0.0564 - val_accuracy: 0.9332 - val_loss: 0.3381\n",
            "Epoch 5/7\n",
            "\u001b[1m858/858\u001b[0m \u001b[32m━━━━━━━━━━━━━━━━━━━━\u001b[0m\u001b[37m\u001b[0m \u001b[1m23s\u001b[0m 27ms/step - accuracy: 0.9896 - loss: 0.0328 - val_accuracy: 0.9399 - val_loss: 0.3339\n",
            "Epoch 6/7\n",
            "\u001b[1m858/858\u001b[0m \u001b[32m━━━━━━━━━━━━━━━━━━━━\u001b[0m\u001b[37m\u001b[0m \u001b[1m23s\u001b[0m 27ms/step - accuracy: 0.9917 - loss: 0.0278 - val_accuracy: 0.9322 - val_loss: 0.3142\n",
            "Epoch 7/7\n",
            "\u001b[1m858/858\u001b[0m \u001b[32m━━━━━━━━━━━━━━━━━━━━\u001b[0m\u001b[37m\u001b[0m \u001b[1m24s\u001b[0m 28ms/step - accuracy: 0.9916 - loss: 0.0247 - val_accuracy: 0.9321 - val_loss: 0.2662\n"
          ]
        }
      ]
    },
    {
      "cell_type": "markdown",
      "source": [
        "Testing the Data"
      ],
      "metadata": {
        "id": "zaT-TsNiW2Bm"
      }
    },
    {
      "cell_type": "code",
      "source": [
        "testImage = x_valid[1] #We will take an image from the training dataset\n",
        "prediction = model.predict(testImage.reshape(-1,28,28,1))"
      ],
      "metadata": {
        "id": "XiBoB08WW9mP",
        "colab": {
          "base_uri": "https://localhost:8080/"
        },
        "outputId": "111e9c19-9318-44ed-eb24-74026679653a"
      },
      "execution_count": 11,
      "outputs": [
        {
          "output_type": "stream",
          "name": "stdout",
          "text": [
            "\u001b[1m1/1\u001b[0m \u001b[32m━━━━━━━━━━━━━━━━━━━━\u001b[0m\u001b[37m\u001b[0m \u001b[1m0s\u001b[0m 23ms/step\n"
          ]
        }
      ]
    },
    {
      "cell_type": "markdown",
      "source": [
        "Display the Output"
      ],
      "metadata": {
        "id": "b1z2VrUQW-V4"
      }
    },
    {
      "cell_type": "code",
      "source": [
        "plt.imshow(testImage.reshape(28, 28)) #plt.imshow() requires a 2D array, so we reshape the input\n",
        "plt.xlabel(f\"Prediction:{np.argmax(prediction)}, Actual Value:{y_valid[1]}\")\n",
        "plt.show()"
      ],
      "metadata": {
        "id": "83VYv-H4XAjH",
        "colab": {
          "base_uri": "https://localhost:8080/",
          "height": 449
        },
        "outputId": "84e2d0cb-1d9f-4d98-e8df-182ac97380a7"
      },
      "execution_count": 12,
      "outputs": [
        {
          "output_type": "display_data",
          "data": {
            "text/plain": [
              "<Figure size 640x480 with 1 Axes>"
            ],
            "image/png": "[encoded data removed]"
          },
          "metadata": {}
        }
      ]
    },
    {
      "cell_type": "code",
      "source": [
        "testImage = x_valid[5] #We will take an image from the training dataset\n",
        "prediction = model.predict(testImage.reshape(-1,28,28,1))"
      ],
      "metadata": {
        "colab": {
          "base_uri": "https://localhost:8080/"
        },
        "id": "H-R6cbXBwnNn",
        "outputId": "ee80a700-893f-4fea-f851-198fcc75f5c8"
      },
      "execution_count": 14,
      "outputs": [
        {
          "output_type": "stream",
          "name": "stdout",
          "text": [
            "\u001b[1m1/1\u001b[0m \u001b[32m━━━━━━━━━━━━━━━━━━━━\u001b[0m\u001b[37m\u001b[0m \u001b[1m0s\u001b[0m 23ms/step\n"
          ]
        }
      ]
    },
    {
      "cell_type": "code",
      "source": [
        "plt.imshow(testImage.reshape(28, 28)) #plt.imshow() requires a 2D array, so we reshape the input\n",
        "plt.xlabel(f\"Prediction:{np.argmax(prediction)}, Actual Value:{y_valid[5]}\")\n",
        "plt.show()\n"
      ],
      "metadata": {
        "colab": {
          "base_uri": "https://localhost:8080/",
          "height": 449
        },
        "id": "uxGthK6Fwwf6",
        "outputId": "9b473121-5823-41a5-d9b3-7450cd71201e"
      },
      "execution_count": 15,
      "outputs": [
        {
          "output_type": "display_data",
          "data": {
            "text/plain": [
              "<Figure size 640x480 with 1 Axes>"
            ],
            "image/png": "[encoded data removed]"
          },
          "metadata": {}
        }
      ]
    }
  ]
}